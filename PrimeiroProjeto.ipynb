{
  "nbformat": 4,
  "nbformat_minor": 0,
  "metadata": {
    "colab": {
      "name": "PrimeiroProjeto.ipynb",
      "provenance": [],
      "authorship_tag": "ABX9TyPl1ntoVcD7tPY3J9iclPRj",
      "include_colab_link": true
    },
    "kernelspec": {
      "name": "python3",
      "display_name": "Python 3"
    },
    "language_info": {
      "name": "python"
    }
  },
  "cells": [
    {
      "cell_type": "markdown",
      "metadata": {
        "id": "view-in-github",
        "colab_type": "text"
      },
      "source": [
        "<a href=\"https://colab.research.google.com/github/Romir-bot/Clonando-o-Instagram/blob/main/PrimeiroProjeto.ipynb\" target=\"_parent\"><img src=\"https://colab.research.google.com/assets/colab-badge.svg\" alt=\"Open In Colab\"/></a>"
      ]
    },
    {
      "cell_type": "code",
      "execution_count": null,
      "metadata": {
        "colab": {
          "base_uri": "https://localhost:8080/"
        },
        "id": "vpfJMQmYqFz5",
        "outputId": "440b8765-26ff-42bf-bc85-f05f0831af5e"
      },
      "outputs": [
        {
          "output_type": "stream",
          "name": "stdout",
          "text": [
            "Hello World!\n"
          ]
        }
      ],
      "source": [
        "var = \"Hello World!\"\n",
        "print (var);"
      ]
    },
    {
      "cell_type": "markdown",
      "source": [
        "Variaveis.py\n"
      ],
      "metadata": {
        "id": "lJivZkEusuf1"
      }
    },
    {
      "cell_type": "code",
      "source": [
        "nome=\"Humberto Delgado\"\n",
        "empresa='FIAP'\n",
        "qtde_funcionarios=500\n",
        "mediaMensalidade=856.50\n",
        "#nome=\"Humberto Delgado\"\n",
        "#empresa='FIAP'\n",
        "#qtde_funcionarios=500\n",
        "#mediaMensalidade=856.50\n",
        "print(nome + \" trabalha na empresa \" + empresa)\n",
        "print(\"Possui: \", qtde_funcionarios, \" funcionarios.\")\n",
        "print(\"A média da mensalidade é de: \" + str(mediaMensalidade))"
      ],
      "metadata": {
        "colab": {
          "base_uri": "https://localhost:8080/"
        },
        "id": "SQPVSdo7s0-u",
        "outputId": "978b6d95-feca-4b93-a6a4-b312291121dc"
      },
      "execution_count": null,
      "outputs": [
        {
          "output_type": "stream",
          "name": "stdout",
          "text": [
            "Humberto Delgado trabalha na empresa FIAP\n",
            "Possui:  500  funcionarios.\n",
            "A média da mensalidade é de: 856.5\n"
          ]
        }
      ]
    },
    {
      "cell_type": "markdown",
      "source": [
        "Usando o input!"
      ],
      "metadata": {
        "id": "qFJCP7tlvnDE"
      }
    },
    {
      "cell_type": "code",
      "source": [
        "nome=input(\"Digite um funcionário: \")\n",
        "empresa=input(\"Digite a instituição: \")\n",
        "qtde_funcionarios=int(input(\"Digite a qtde de funcionários: \"))\n",
        "mediaMensalidade=float(input(\"Digite a média da mensalidade: \"))\n",
        "print(nome + \" trabalha na empresa \" + empresa)\n",
        "print(\"Possui: \", qtde_funcionarios, \" funcionarios.\")\n",
        "print(\"A média da mensalidade é de: \" + str(mediaMensalidade))"
      ],
      "metadata": {
        "colab": {
          "base_uri": "https://localhost:8080/"
        },
        "id": "NDOT0S5Jvsx1",
        "outputId": "135c5df9-d5a0-453b-c5ee-a617d3783498"
      },
      "execution_count": null,
      "outputs": [
        {
          "output_type": "stream",
          "name": "stdout",
          "text": [
            "Digite um funcionário: Romir\n",
            "Digite a instituição: FIEP\n",
            "Digite a qtde de funcionários: 500\n",
            "Digite a média da mensalidade: 856.5\n",
            "Romir trabalha na empresa FIEP\n",
            "Possui:  500  funcionarios.\n",
            "A média da mensalidade é de: 856.5\n"
          ]
        }
      ]
    },
    {
      "cell_type": "markdown",
      "source": [
        "Função Type"
      ],
      "metadata": {
        "id": "nKczM85m7_xv"
      }
    },
    {
      "cell_type": "code",
      "source": [
        "nome=input(\"Digite um funcionário: \")\n",
        "empresa=input(\"Digite a instituição: \")\n",
        "qtde_funcionarios=int(input(\"Digite a qtde de funcionários: \"))\n",
        "mediaMensalidade=float(input(\"Digite a média da mensalidade: \"))\n",
        "print(nome + \" trabalha na empresa \" + empresa)\n",
        "print(\"Possui: \", qtde_funcionarios, \" funcionarios.\")\n",
        "print(\"A média da mensalidade é de: \" + str(mediaMensalidade))\n",
        "print(\"==============Verifique os tipos de dados abaixo:==============\")\n",
        "print(\"O tipo de dado da variavel [nome] é: \",type(nome))\n",
        "print(\"O tipo de dado da variavel [empresa] é: \",type(empresa))\n",
        "print(\"O tipo de dado da variavel [qtde_funcionarios] é: \",type(qtde_funcionarios))\n",
        "print(\"O tipo de dado da variavel [mediaMensalidade] é: \",type(mediaMensalidade))"
      ],
      "metadata": {
        "colab": {
          "base_uri": "https://localhost:8080/"
        },
        "id": "VUs5rBPJ8EOy",
        "outputId": "fc8d0e28-0a26-4831-aa5d-79382dcc9ff4"
      },
      "execution_count": 1,
      "outputs": [
        {
          "output_type": "stream",
          "name": "stdout",
          "text": [
            "Digite um funcionário: romir\n",
            "Digite a instituição: Cocamar\n",
            "Digite a qtde de funcionários: 30\n",
            "Digite a média da mensalidade: 900\n",
            "romir trabalha na empresa Cocamar\n",
            "Possui:  30  funcionarios.\n",
            "A média da mensalidade é de: 900.0\n",
            "==============Verifique os tipos de dados abaixo:==============\n",
            "O tipo de dado da variavel [nome] é:  <class 'str'>\n",
            "O tipo de dado da variavel [empresa] é:  <class 'str'>\n",
            "O tipo de dado da variavel [qtde_funcionarios] é:  <class 'int'>\n",
            "O tipo de dado da variavel [mediaMensalidade] é:  <class 'float'>\n"
          ]
        }
      ]
    },
    {
      "cell_type": "markdown",
      "source": [
        "Tarefa "
      ],
      "metadata": {
        "id": "fhhfNTrRAn4V"
      }
    },
    {
      "cell_type": "code",
      "source": [
        "responsavel=input(\"Digite o nome do responsável: \")\n",
        "funcionario=input(\"Digite o nome do funcionário: \")\n",
        "evento=input(\"Digite o nome do evento: \")\n",
        "valor=float(input(\"Digite o valor que será ressarcido: \"))\n",
        "\n",
        "print(\"Declaro para o senhor \" + responsavel + \", que o senhor \" + funcionario + \" esteve presente no evento \" + evento + \" e gastou o valor de R$ \" + str(valor) + \" com a entrada.\")"
      ],
      "metadata": {
        "colab": {
          "base_uri": "https://localhost:8080/"
        },
        "id": "vHPSc1fMAr_e",
        "outputId": "d4f67261-034a-425a-e9cd-1a7bbf3da9e1"
      },
      "execution_count": 2,
      "outputs": [
        {
          "output_type": "stream",
          "name": "stdout",
          "text": [
            "Digite o nome do responsável: Gonçalves Dias\n",
            "Digite o nome do funcionário: Humberto Delgado\n",
            "Digite o nome do evento: SecurityCup\n",
            "Digite o valor que será ressarcido: 30\n",
            "Declaro para o senhor Gonçalves Dias, que o senhor Humberto Delgado esteve presente no evento SecurityCup e gastou o valor de R$ 30.0 com a entrada.\n"
          ]
        }
      ]
    },
    {
      "cell_type": "markdown",
      "source": [
        "Descisões Simples"
      ],
      "metadata": {
        "id": "B11r38AdBuS0"
      }
    },
    {
      "cell_type": "code",
      "source": [
        "nome=input(\"Digite o nome: \")\n",
        "idade=int(input(\"Digite a idade: \"))\n",
        "prioridade=\"NÃO\"\n",
        "if idade>=65:\n",
        "    prioridade=\"SIM\"\n",
        "print(\"O paciente \" + nome + \" possui atendimento prioritário? \" + prioridade)"
      ],
      "metadata": {
        "colab": {
          "base_uri": "https://localhost:8080/"
        },
        "id": "kHwt0PdxBzRI",
        "outputId": "e508e674-deaa-43e2-85c5-db54c0fa804d"
      },
      "execution_count": 3,
      "outputs": [
        {
          "output_type": "stream",
          "name": "stdout",
          "text": [
            "Digite o nome: Romir\n",
            "Digite a idade: 40\n",
            "O paciente Romir possui atendimento prioritário? NÃO\n"
          ]
        }
      ]
    },
    {
      "cell_type": "markdown",
      "source": [
        "Descisões composta"
      ],
      "metadata": {
        "id": "jue91QqkDbOO"
      }
    },
    {
      "cell_type": "code",
      "source": [
        "nome=input(\"Digite o nome: \")\n",
        "idade=int(input(\"Digite a idade: \"))\n",
        "if idade>=65:\n",
        "    print(\"O paciente \" + nome + \" POSSUI atendimento prioritário!\")\n",
        "else:\n",
        "    print(\"O paciente \" + nome + \" NÃO possui atendimento prioritário!\")"
      ],
      "metadata": {
        "colab": {
          "base_uri": "https://localhost:8080/"
        },
        "id": "BrBBrqKiDfxD",
        "outputId": "bb529040-10a2-4d1e-8933-45cbf39965d5"
      },
      "execution_count": 8,
      "outputs": [
        {
          "output_type": "stream",
          "name": "stdout",
          "text": [
            "Digite o nome: Romir\n",
            "Digite a idade: 40\n",
            "O paciente Romir NÃO possui atendimento prioritário!\n"
          ]
        }
      ]
    },
    {
      "cell_type": "code",
      "source": [
        "nome=input(\"Digite o nome: \")\n",
        "idade=int(input(\"Digite a idade: \"))\n",
        "if idade>=65:\n",
        "    print(\"O paciente \" + nome + \" POSSUI atendimento prioritário!\")\n",
        "if idade < 65:\n",
        "    print(\"O paciente \" + nome + \" NÃO possui atendimento prioritário!\")"
      ],
      "metadata": {
        "colab": {
          "base_uri": "https://localhost:8080/"
        },
        "id": "ToHEl2cXEGVy",
        "outputId": "3041a124-8c21-4fe9-9aca-1bdc036e2a32"
      },
      "execution_count": 10,
      "outputs": [
        {
          "output_type": "stream",
          "name": "stdout",
          "text": [
            "Digite o nome: Romir\n",
            "Digite a idade: 40\n",
            "O paciente Romir NÃO possui atendimento prioritário!\n"
          ]
        }
      ]
    },
    {
      "cell_type": "code",
      "source": [
        "nome=input(\"Digite o nome: \")\n",
        "idade=int(input(\"Digite a idade: \"))\n",
        "doenca_infectocontagiosa=input(\"Suspeita de doença infecto-contagiosa?\").upper()\n",
        "if idade>=65:\n",
        "    print(\"O paciente \" + nome + \" POSSUI atendimento prioritário!\")\n",
        "elif doenca_infectocontagiosa==\"SIM\":\n",
        "    print(\"O paciente \" + nome + \" deve ser direcionado para sala de espera reservada.\")\n",
        "else:\n",
        "    print(\"O paciente \" + nome + \" NÃO possui atendimento prioritário e pode aguardar na sala comum!\")"
      ],
      "metadata": {
        "colab": {
          "base_uri": "https://localhost:8080/"
        },
        "id": "YyxE8i8zFr07",
        "outputId": "974aacb4-c2b1-486c-a8e9-354a8a405119"
      },
      "execution_count": 12,
      "outputs": [
        {
          "output_type": "stream",
          "name": "stdout",
          "text": [
            "Digite o nome: Romir\n",
            "Digite a idade: 65\n",
            "Suspeita de doença infecto-contagiosa?nao\n",
            "O paciente Romir POSSUI atendimento prioritário!\n"
          ]
        }
      ]
    },
    {
      "cell_type": "code",
      "source": [
        "nome=input(\"Digite o nome: \")\n",
        "idade=int(input(\"Digite a idade: \"))\n",
        "doenca_infectocontagiosa=input(\"Suspeita de doença infecto-contagiosa?\").upper()\n",
        "if idade>=65 and doenca_infectocontagiosa==\"SIM\":\n",
        "    print(\"O paciente será direcionado para sala AMARELA - COM prioridade\")\n",
        "elif idade < 65 and doenca_infectocontagiosa == \"SIM\":\n",
        "    print(\"O paciente será direcionado para sala AMARELA - SEM prioridade\")\n",
        "elif idade >= 65 and doenca_infectocontagiosa == \"NAO\":\n",
        "    print(\"O paciente será direcionado para sala BRANCA - COM prioridade\")\n",
        "elif idade < 65 and doenca_infectocontagiosa == \"NAO\":\n",
        "    print(\"O paciente será direcionado para sala BRANCA - SEM prioridade\")\n",
        "else:\n",
        "    print(\"Responda a suspeita de doença infectocontagiosa com SIM ou NAO\")\n",
        "    "
      ],
      "metadata": {
        "colab": {
          "base_uri": "https://localhost:8080/"
        },
        "id": "nBzrIS7jF4ps",
        "outputId": "bb0e34c1-4b52-4a65-caf8-7152078e35c1"
      },
      "execution_count": 14,
      "outputs": [
        {
          "output_type": "stream",
          "name": "stdout",
          "text": [
            "Digite o nome: ROMIR\n",
            "Digite a idade: 65\n",
            "Suspeita de doença infecto-contagiosa?NAO\n",
            "O paciente será direcionado para sala BRANCA - COM prioridade\n"
          ]
        }
      ]
    },
    {
      "cell_type": "markdown",
      "source": [
        "Descisões Encadeadas"
      ],
      "metadata": {
        "id": "WCP3oPVJG7Mo"
      }
    },
    {
      "cell_type": "code",
      "source": [
        "nome=input(\"Digite o nome: \")\n",
        "idade=int(input(\"Digite a idade: \"))\n",
        "doenca_infectocontagiosa=input(\"Suspeita de doença infectocontagiosa?\").upper()\n",
        "if idade >= 65:\n",
        "    print(\"Paciente COM prioridade\")\n",
        "    if doenca_infectocontagiosa==\"SIM\":\n",
        "        print(\"Encaminhe o paciente para sala AMARELA\")\n",
        "    elif doenca_infectocontagiosa==\"NAO\":\n",
        "        print(\"Encaminhe o paciente para sala BRANCA\")\n",
        "    else:\n",
        "        print(\"Responda a suspeita de doença infectocontagiosa com SIM ou NAO\")\n",
        "else:\n",
        "    print(\"Paciente SEM prioridade\")\n",
        "    if doenca_infectocontagiosa==\"SIM\":\n",
        "        print(\"Encaminhe o paciente para sala AMARELA\")\n",
        "    elif doenca_infectocontagiosa==\"NAO\":\n",
        "        print(\"Encaminhe o paciente para sala BRANCA\")\n",
        "    else:\n",
        "        print(\"Responda a suspeita de doença infectocontagiosa com SIM ou NAO\")"
      ],
      "metadata": {
        "colab": {
          "base_uri": "https://localhost:8080/"
        },
        "id": "oYtuUtpbHR62",
        "outputId": "3deb126e-5f5d-4e25-d171-04f48fcb990c"
      },
      "execution_count": 15,
      "outputs": [
        {
          "output_type": "stream",
          "name": "stdout",
          "text": [
            "Digite o nome: Romir\n",
            "Digite a idade: 65\n",
            "Suspeita de doença infectocontagiosa?NAO\n",
            "Paciente COM prioridade\n",
            "Encaminhe o paciente para sala BRANCA\n"
          ]
        }
      ]
    },
    {
      "cell_type": "code",
      "source": [
        "\n",
        "nome=input(\"Digite o nome: \")\n",
        "idade=int(input(\"Digite a idade: \"))\n",
        "doenca_infectocontagiosa=input(\"Suspeita de doença infectocontagiosa? \").upper()\n",
        "\n",
        "# PRIMEIRO PROBLEMA A SER RESOLVIDO\n",
        "if doenca_infectocontagiosa==\"SIM\":\n",
        "    print(\"Encaminhe o paciente para sala AMARELA\")\n",
        "elif doenca_infectocontagiosa==\"NAO\":\n",
        "    print(\"Encaminhe o paciente para sala BRANCA\")\n",
        "else:\n",
        "    print(\"Responda a suspeita de doença infectocontagiosa com SIM ou NAO\")\n",
        "\n",
        "# SEGUNDO PROBLEMA A SER RESOLVIDO\n",
        "if idade >= 65:\n",
        "    print(\"Paciente COM prioridade\")\n",
        "else:\n",
        "    genero=input(\"Digite o gênero do paciente: \").upper()\n",
        "    if genero==\"FEMININO\" and idade>10:\n",
        "        gravidez=input(\"A paciente está grávida? \").upper()\n",
        "        if gravidez==\"SIM\":\n",
        "            print(\"Paciente COM prioridade\")\n",
        "        else:\n",
        "            print(\"Paciente SEM prioridade\")\n",
        "    else:\n",
        "        print(\"Paciente SEM prioridade\")"
      ],
      "metadata": {
        "colab": {
          "base_uri": "https://localhost:8080/"
        },
        "id": "N9DdyXXJHZfJ",
        "outputId": "741fdbe4-ed40-4c2c-a6da-bd1b876f23a5"
      },
      "execution_count": 17,
      "outputs": [
        {
          "output_type": "stream",
          "name": "stdout",
          "text": [
            "Digite o nome: MARIA\n",
            "Digite a idade: 45\n",
            "Suspeita de doença infectocontagiosa? NAO\n",
            "Encaminhe o paciente para sala BRANCA\n",
            "Digite o gênero do paciente: FEMININO\n",
            "A paciente está grávida? NAO\n",
            "Paciente SEM prioridade\n"
          ]
        }
      ]
    },
    {
      "cell_type": "code",
      "source": [
        "nivel=input(\"Digite o nível de acesso: \").upper()\n",
        "if nivel==\"ADM\" or nivel==\"USR\":\n",
        "    genero=input(\"Digite o seu gênero: \").upper()\n",
        "    if nivel==\"ADM\":\n",
        "        if genero==\"FEMININO\":\n",
        "            print(\"Olá administradora\")\n",
        "        else:\n",
        "            print(\"Olá administrador\")\n",
        "    else:\n",
        "        if genero==\"FEMININO\":\n",
        "            print(\"Olá usuária\")\n",
        "        else:\n",
        "            print(\"Olá usuário\")\n",
        "elif nivel==\"GUEST\":\n",
        "    print(\"Olá visitante\")\n",
        "else:\n",
        "    print(\"Olá desconhecido(a)\")"
      ],
      "metadata": {
        "colab": {
          "base_uri": "https://localhost:8080/"
        },
        "id": "-PkhwJGcO5GB",
        "outputId": "2a1214e1-9d81-4023-a58d-ccd169da0e50"
      },
      "execution_count": 18,
      "outputs": [
        {
          "output_type": "stream",
          "name": "stdout",
          "text": [
            "Digite o nível de acesso: ADM\n",
            "Digite o seu gênero: MASCULINO\n",
            "Olá administrador\n"
          ]
        }
      ]
    },
    {
      "cell_type": "markdown",
      "source": [
        "Laços de repetições"
      ],
      "metadata": {
        "id": "Vh2Q5KzWPjNF"
      }
    },
    {
      "cell_type": "code",
      "source": [
        "numero=int(input(\"Digite um numero: \"))\n",
        "while numero<100:\n",
        "    print(\"\t\" + str(numero))\n",
        "    numero=numero+1\n",
        "print(\"Laço encerrado....\")"
      ],
      "metadata": {
        "colab": {
          "base_uri": "https://localhost:8080/"
        },
        "id": "SeRIXU0HPqXY",
        "outputId": "75e26fd5-551e-4169-e067-0d8566734c65"
      },
      "execution_count": 19,
      "outputs": [
        {
          "output_type": "stream",
          "name": "stdout",
          "text": [
            "Digite um numero: 5\n",
            "\t5\n",
            "\t6\n",
            "\t7\n",
            "\t8\n",
            "\t9\n",
            "\t10\n",
            "\t11\n",
            "\t12\n",
            "\t13\n",
            "\t14\n",
            "\t15\n",
            "\t16\n",
            "\t17\n",
            "\t18\n",
            "\t19\n",
            "\t20\n",
            "\t21\n",
            "\t22\n",
            "\t23\n",
            "\t24\n",
            "\t25\n",
            "\t26\n",
            "\t27\n",
            "\t28\n",
            "\t29\n",
            "\t30\n",
            "\t31\n",
            "\t32\n",
            "\t33\n",
            "\t34\n",
            "\t35\n",
            "\t36\n",
            "\t37\n",
            "\t38\n",
            "\t39\n",
            "\t40\n",
            "\t41\n",
            "\t42\n",
            "\t43\n",
            "\t44\n",
            "\t45\n",
            "\t46\n",
            "\t47\n",
            "\t48\n",
            "\t49\n",
            "\t50\n",
            "\t51\n",
            "\t52\n",
            "\t53\n",
            "\t54\n",
            "\t55\n",
            "\t56\n",
            "\t57\n",
            "\t58\n",
            "\t59\n",
            "\t60\n",
            "\t61\n",
            "\t62\n",
            "\t63\n",
            "\t64\n",
            "\t65\n",
            "\t66\n",
            "\t67\n",
            "\t68\n",
            "\t69\n",
            "\t70\n",
            "\t71\n",
            "\t72\n",
            "\t73\n",
            "\t74\n",
            "\t75\n",
            "\t76\n",
            "\t77\n",
            "\t78\n",
            "\t79\n",
            "\t80\n",
            "\t81\n",
            "\t82\n",
            "\t83\n",
            "\t84\n",
            "\t85\n",
            "\t86\n",
            "\t87\n",
            "\t88\n",
            "\t89\n",
            "\t90\n",
            "\t91\n",
            "\t92\n",
            "\t93\n",
            "\t94\n",
            "\t95\n",
            "\t96\n",
            "\t97\n",
            "\t98\n",
            "\t99\n",
            "Laço encerrado....\n"
          ]
        }
      ]
    },
    {
      "cell_type": "code",
      "source": [
        "resposta=\"SIM\"\n",
        "while resposta==\"SIM\":\n",
        "    nivel=input(\"Digite o nível de acesso: \").upper()\n",
        "    if nivel==\"ADM\" or nivel==\"USR\":\n",
        "        genero=input(\"Digite o seu gênero: \").upper()\n",
        "        if nivel==\"ADM\":\n",
        "            if genero==\"FEMININO\":\n",
        "                print(\"Olá administradora\")\n",
        "            else:\n",
        "                print(\"Olá administrador\")\n",
        "        else:\n",
        "            if genero==\"FEMININO\":\n",
        "                print(\"Olá usuária\")\n",
        "            else:\n",
        "                print(\"Olá usuario\")\n",
        "    elif nivel==\"GUEST\":\n",
        "        print(\"Olá visitante\")\n",
        "    else:\n",
        "        print(\"Olá desconhecido(a)\")\n",
        "    resposta=input(\"Digite SIM para continuar: \").upper()"
      ],
      "metadata": {
        "id": "Q7IkzzHQP7TG"
      },
      "execution_count": null,
      "outputs": []
    },
    {
      "cell_type": "code",
      "source": [
        "nome=input(\"Digite o nome: \")\n",
        "idade=int(input(\"Digite a idade: \"))\n",
        "doenca_infectocontagiosa=input(\"Suspeita de doença infecto-contagiosa? \").upper()\n",
        "# PRIMEIRO PROBLEMA A SER RESOLVIDO\n",
        "while doenca_infectocontagiosa!=\"SIM\" and  doenca_infectocontagiosa!=\"NAO\":\n",
        "    print(\"Digite SIM ou NAO\")\n",
        "    doenca_infectocontagiosa = input(\"Suspeita de doença infecto-contagiosa? \").upper()\n",
        "\n",
        "if doenca_infectocontagiosa==\"SIM\":\n",
        "    print(\"Encaminhe o paciente para sala AMARELA\")\n",
        "else:\n",
        "    print(\"Encaminhe o paciente para sala BRANCA\")\n",
        "\n",
        "# SEGUNDO PROBLEMA A SER RESOLVIDO\n",
        "if idade >= 65:\n",
        "    print(\"Paciente COM prioridade\")\n",
        "else:\n",
        "    genero=input(\"Digite o gênero do paciente: \").upper()\n",
        "    if genero==\"FEMININO\" and idade>10:\n",
        "        gravidez=input(\"A paciente está grávida? \").upper()\n",
        "        if gravidez==\"SIM\":\n",
        "            print(\"Paciente COM prioridade\")\n",
        "        else:\n",
        "            print(\"Paciente SEM prioridade\")\n",
        "    else:\n",
        "        print(\"Paciente SEM prioridade\")"
      ],
      "metadata": {
        "colab": {
          "base_uri": "https://localhost:8080/"
        },
        "id": "rBtu0r3bRa_t",
        "outputId": "7a42936c-a2ae-4dcc-fb0e-a547edc82e58"
      },
      "execution_count": 21,
      "outputs": [
        {
          "output_type": "stream",
          "name": "stdout",
          "text": [
            "Digite o nome: ROMIR\n",
            "Digite a idade: 56\n",
            "Suspeita de doença infecto-contagiosa? NAO\n",
            "Encaminhe o paciente para sala BRANCA\n",
            "Digite o gênero do paciente: MASCULINO\n",
            "Paciente SEM prioridade\n"
          ]
        }
      ]
    },
    {
      "cell_type": "markdown",
      "source": [
        ""
      ],
      "metadata": {
        "id": "dam3VDOPR-sa"
      }
    },
    {
      "cell_type": "code",
      "source": [
        "for numero in range(1,int(input(\"Digite um numero para determinar o fim: \")),1):\n",
        "  print (\"\t\" + str(numero))"
      ],
      "metadata": {
        "colab": {
          "base_uri": "https://localhost:8080/"
        },
        "id": "-cqM8V9tWvBc",
        "outputId": "f4c94463-eae3-4e3b-a300-9c3138dcb8f7"
      },
      "execution_count": 24,
      "outputs": [
        {
          "output_type": "stream",
          "name": "stdout",
          "text": [
            "Digite um numero para determinar o fim: 5\n",
            "\t1\n",
            "\t2\n",
            "\t3\n",
            "\t4\n"
          ]
        }
      ]
    },
    {
      "cell_type": "code",
      "source": [
        "tabuada=int(input(\"Digite um número para exibir a tabuada: \"))\n",
        "print(\"Tabuada do número \", tabuada)\n",
        "for valor in range(1,11,1):\n",
        "    print(str(tabuada) + \" x \" + str(valor) + \" = \" + str((tabuada*valor)))"
      ],
      "metadata": {
        "colab": {
          "base_uri": "https://localhost:8080/"
        },
        "id": "yjdyVNpfZkRK",
        "outputId": "0802f8c5-ab4d-4e66-9add-bb6124113a87"
      },
      "execution_count": 25,
      "outputs": [
        {
          "output_type": "stream",
          "name": "stdout",
          "text": [
            "Digite um número para exibir a tabuada: 7\n",
            "Tabuada do número  7\n",
            "7 x 1 = 7\n",
            "7 x 2 = 14\n",
            "7 x 3 = 21\n",
            "7 x 4 = 28\n",
            "7 x 5 = 35\n",
            "7 x 6 = 42\n",
            "7 x 7 = 49\n",
            "7 x 8 = 56\n",
            "7 x 9 = 63\n",
            "7 x 10 = 70\n"
          ]
        }
      ]
    },
    {
      "cell_type": "markdown",
      "source": [
        "LISTAS\n"
      ],
      "metadata": {
        "id": "XEnXVGfEga6h"
      }
    },
    {
      "cell_type": "code",
      "source": [
        "#lista preenchida estaticamente\n",
        "lista_estatica = [\"xpto\", True]\n",
        "\n",
        "#lista preenchida dinamicamente\n",
        "lista_dinamica = [input(\"Digite o usuário: \"), bool(int(input(\"Está logado? \")))]\n",
        "\n",
        "#lista vazia\n",
        "lista_vazia=[]"
      ],
      "metadata": {
        "colab": {
          "base_uri": "https://localhost:8080/"
        },
        "id": "2I-YoXHHsGfU",
        "outputId": "9ab05e5a-4862-48f5-8fe7-491fba5378e3"
      },
      "execution_count": 29,
      "outputs": [
        {
          "name": "stdout",
          "output_type": "stream",
          "text": [
            "Digite o usuário: sim\n",
            "Está logado? 123\n"
          ]
        }
      ]
    },
    {
      "cell_type": "code",
      "source": [
        "inventario=[]\n",
        "resposta=\"S\"\n",
        "while resposta==\"S\":\n",
        "  inventario.append(input(\"Equipamento: \"))\n",
        "  inventario.append(float(input(\"Valor: \")))\n",
        "  inventario.append(int(input(\"Número Serial: \")))\n",
        "  inventario.append(input(\"Departamento: \"))\n",
        "  resposta=input(\"Digite S para continuar: \").upper()\n",
        "\n",
        "\n",
        "for elemento in inventario:\n",
        "  print(elemento)"
      ],
      "metadata": {
        "colab": {
          "base_uri": "https://localhost:8080/"
        },
        "id": "zNrucQmovFiw",
        "outputId": "9e471bdb-67c9-4182-c2f8-4029f0a3c34a"
      },
      "execution_count": 36,
      "outputs": [
        {
          "output_type": "stream",
          "name": "stdout",
          "text": [
            "Equipamento: Eq1\n",
            "Valor: 400.5\n",
            "Número Serial: 123\n",
            "Departamento: TI\n",
            "Digite S para continuar: \n",
            "Eq1\n",
            "400.5\n",
            "123\n",
            "TI\n"
          ]
        }
      ]
    },
    {
      "cell_type": "code",
      "source": [
        "equipamentos = []\n",
        "valores = []\n",
        "seriais = []\n",
        "departamentos = []\n",
        "resposta = \"S\"\n",
        "while resposta == \"S\":\n",
        "  equipamentos.append(input(\"Equipamento: \"))\n",
        "  valores.append(float(input(\"Valor: \")))\n",
        "  seriais.append(int(input(\"Número Serial: \")))\n",
        "  departamentos.append(input(\"Departamento: \"))\n",
        "  resposta = input(\"Digite S para continuar: \").upper()\n",
        "\n",
        "for indice in range(0,len(equipamentos)):\n",
        "  print(\"Equipamento..: \", (indice+1))\n",
        "  print(\"Nome.........: \", equipamentos[indice])\n",
        "  print(\"Valor........: \", valores[indice])\n",
        "  print(\"Serial.......: \", seriais[indice])\n",
        "  print(\"Departamento.: \", departamentos[indice])"
      ],
      "metadata": {
        "colab": {
          "base_uri": "https://localhost:8080/"
        },
        "id": "Zt0_BX5_9Pa-",
        "outputId": "fe612137-ad5c-4f9b-8a39-8d2be5ee71d0"
      },
      "execution_count": 38,
      "outputs": [
        {
          "output_type": "stream",
          "name": "stdout",
          "text": [
            "Equipamento: Eqi\n",
            "Valor: 4500\n",
            "Número Serial: 123\n",
            "Departamento: TI\n",
            "Digite S para continuar: \n",
            "Equipamento..:  1\n",
            "Nome.........:  Eqi\n",
            "Valor........:  4500.0\n",
            "Serial.......:  123\n",
            "Departamento.:  TI\n"
          ]
        }
      ]
    },
    {
      "cell_type": "code",
      "source": [
        "busca=input(\"Digite o nome do equipamento que deseja buscar: \")\n",
        "for indice in range(0,len(equipamentos)):\n",
        "  if busca==equipamentos[indice]:\n",
        "    print(\"Valor..: \", valores[indice])\n",
        "    print(\"Serial.:\", seriais[indice])"
      ],
      "metadata": {
        "colab": {
          "base_uri": "https://localhost:8080/"
        },
        "id": "ztgfN9Oa96JU",
        "outputId": "7fd7521a-7b39-45e3-fc81-80a118846b40"
      },
      "execution_count": 40,
      "outputs": [
        {
          "output_type": "stream",
          "name": "stdout",
          "text": [
            "Digite o nome do equipamento que deseja buscar: Eqi\n",
            "Valor..:  4500.0\n",
            "Serial.: 123\n"
          ]
        }
      ]
    }
  ]
}